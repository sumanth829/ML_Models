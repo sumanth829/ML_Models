{
  "cells": [
    {
      "cell_type": "code",
      "execution_count": 1,
      "metadata": {
        "id": "2XagvjE_ukY0"
      },
      "outputs": [],
      "source": [
        "import numpy as np\n",
        "import pandas as pd\n",
        "from sklearn.preprocessing import MinMaxScaler\n",
        "from tensorflow.keras.models import Sequential\n",
        "from tensorflow.keras.layers import LSTM, Dense"
      ]
    },
    {
      "cell_type": "code",
      "execution_count": 2,
      "metadata": {
        "id": "vhmxrraCuzMS"
      },
      "outputs": [
        {
          "data": {
            "text/html": [
              "<div>\n",
              "<style scoped>\n",
              "    .dataframe tbody tr th:only-of-type {\n",
              "        vertical-align: middle;\n",
              "    }\n",
              "\n",
              "    .dataframe tbody tr th {\n",
              "        vertical-align: top;\n",
              "    }\n",
              "\n",
              "    .dataframe thead th {\n",
              "        text-align: right;\n",
              "    }\n",
              "</style>\n",
              "<table border=\"1\" class=\"dataframe\">\n",
              "  <thead>\n",
              "    <tr style=\"text-align: right;\">\n",
              "      <th></th>\n",
              "      <th>Date</th>\n",
              "      <th>Open</th>\n",
              "      <th>High</th>\n",
              "      <th>Low</th>\n",
              "      <th>Close</th>\n",
              "      <th>Volume</th>\n",
              "      <th>Dividends</th>\n",
              "      <th>Stock Splits</th>\n",
              "    </tr>\n",
              "  </thead>\n",
              "  <tbody>\n",
              "    <tr>\n",
              "      <th>0</th>\n",
              "      <td>2006-05-25</td>\n",
              "      <td>3.748967</td>\n",
              "      <td>4.283869</td>\n",
              "      <td>3.739664</td>\n",
              "      <td>4.279217</td>\n",
              "      <td>395343000</td>\n",
              "      <td>0.00</td>\n",
              "      <td>0.0</td>\n",
              "    </tr>\n",
              "    <tr>\n",
              "      <th>1</th>\n",
              "      <td>2006-05-26</td>\n",
              "      <td>4.307126</td>\n",
              "      <td>4.348058</td>\n",
              "      <td>4.103398</td>\n",
              "      <td>4.179680</td>\n",
              "      <td>103044000</td>\n",
              "      <td>0.00</td>\n",
              "      <td>0.0</td>\n",
              "    </tr>\n",
              "    <tr>\n",
              "      <th>2</th>\n",
              "      <td>2006-05-30</td>\n",
              "      <td>4.183400</td>\n",
              "      <td>4.184330</td>\n",
              "      <td>3.986184</td>\n",
              "      <td>4.093164</td>\n",
              "      <td>49898000</td>\n",
              "      <td>0.00</td>\n",
              "      <td>0.0</td>\n",
              "    </tr>\n",
              "    <tr>\n",
              "      <th>3</th>\n",
              "      <td>2006-05-31</td>\n",
              "      <td>4.125723</td>\n",
              "      <td>4.219679</td>\n",
              "      <td>4.125723</td>\n",
              "      <td>4.180608</td>\n",
              "      <td>30002000</td>\n",
              "      <td>0.00</td>\n",
              "      <td>0.0</td>\n",
              "    </tr>\n",
              "    <tr>\n",
              "      <th>4</th>\n",
              "      <td>2006-06-01</td>\n",
              "      <td>4.179678</td>\n",
              "      <td>4.474572</td>\n",
              "      <td>4.176887</td>\n",
              "      <td>4.419686</td>\n",
              "      <td>62344000</td>\n",
              "      <td>0.00</td>\n",
              "      <td>0.0</td>\n",
              "    </tr>\n",
              "    <tr>\n",
              "      <th>...</th>\n",
              "      <td>...</td>\n",
              "      <td>...</td>\n",
              "      <td>...</td>\n",
              "      <td>...</td>\n",
              "      <td>...</td>\n",
              "      <td>...</td>\n",
              "      <td>...</td>\n",
              "      <td>...</td>\n",
              "    </tr>\n",
              "    <tr>\n",
              "      <th>3867</th>\n",
              "      <td>2021-10-05</td>\n",
              "      <td>347.121403</td>\n",
              "      <td>348.130138</td>\n",
              "      <td>342.497241</td>\n",
              "      <td>342.776886</td>\n",
              "      <td>4724100</td>\n",
              "      <td>0.00</td>\n",
              "      <td>0.0</td>\n",
              "    </tr>\n",
              "    <tr>\n",
              "      <th>3868</th>\n",
              "      <td>2021-10-06</td>\n",
              "      <td>339.580960</td>\n",
              "      <td>348.439763</td>\n",
              "      <td>338.682072</td>\n",
              "      <td>348.250000</td>\n",
              "      <td>3712000</td>\n",
              "      <td>0.00</td>\n",
              "      <td>0.0</td>\n",
              "    </tr>\n",
              "    <tr>\n",
              "      <th>3869</th>\n",
              "      <td>2021-10-07</td>\n",
              "      <td>349.000000</td>\n",
              "      <td>357.899994</td>\n",
              "      <td>349.000000</td>\n",
              "      <td>353.910004</td>\n",
              "      <td>3209200</td>\n",
              "      <td>0.44</td>\n",
              "      <td>0.0</td>\n",
              "    </tr>\n",
              "    <tr>\n",
              "      <th>3870</th>\n",
              "      <td>2021-10-08</td>\n",
              "      <td>356.000000</td>\n",
              "      <td>360.369995</td>\n",
              "      <td>354.209991</td>\n",
              "      <td>354.959991</td>\n",
              "      <td>2336700</td>\n",
              "      <td>0.00</td>\n",
              "      <td>0.0</td>\n",
              "    </tr>\n",
              "    <tr>\n",
              "      <th>3871</th>\n",
              "      <td>2021-10-11</td>\n",
              "      <td>353.950012</td>\n",
              "      <td>354.880005</td>\n",
              "      <td>346.899994</td>\n",
              "      <td>347.149994</td>\n",
              "      <td>2766800</td>\n",
              "      <td>0.00</td>\n",
              "      <td>0.0</td>\n",
              "    </tr>\n",
              "  </tbody>\n",
              "</table>\n",
              "<p>3872 rows × 8 columns</p>\n",
              "</div>"
            ],
            "text/plain": [
              "            Date        Open        High         Low       Close     Volume  \\\n",
              "0     2006-05-25    3.748967    4.283869    3.739664    4.279217  395343000   \n",
              "1     2006-05-26    4.307126    4.348058    4.103398    4.179680  103044000   \n",
              "2     2006-05-30    4.183400    4.184330    3.986184    4.093164   49898000   \n",
              "3     2006-05-31    4.125723    4.219679    4.125723    4.180608   30002000   \n",
              "4     2006-06-01    4.179678    4.474572    4.176887    4.419686   62344000   \n",
              "...          ...         ...         ...         ...         ...        ...   \n",
              "3867  2021-10-05  347.121403  348.130138  342.497241  342.776886    4724100   \n",
              "3868  2021-10-06  339.580960  348.439763  338.682072  348.250000    3712000   \n",
              "3869  2021-10-07  349.000000  357.899994  349.000000  353.910004    3209200   \n",
              "3870  2021-10-08  356.000000  360.369995  354.209991  354.959991    2336700   \n",
              "3871  2021-10-11  353.950012  354.880005  346.899994  347.149994    2766800   \n",
              "\n",
              "      Dividends  Stock Splits  \n",
              "0          0.00           0.0  \n",
              "1          0.00           0.0  \n",
              "2          0.00           0.0  \n",
              "3          0.00           0.0  \n",
              "4          0.00           0.0  \n",
              "...         ...           ...  \n",
              "3867       0.00           0.0  \n",
              "3868       0.00           0.0  \n",
              "3869       0.44           0.0  \n",
              "3870       0.00           0.0  \n",
              "3871       0.00           0.0  \n",
              "\n",
              "[3872 rows x 8 columns]"
            ]
          },
          "execution_count": 2,
          "metadata": {},
          "output_type": "execute_result"
        }
      ],
      "source": [
        "data=pd.read_csv('Mastercard_stock_history.csv')\n",
        "data"
      ]
    },
    {
      "cell_type": "code",
      "execution_count": 3,
      "metadata": {
        "colab": {
          "base_uri": "https://localhost:8080/"
        },
        "id": "Wuw7CiB6woi6",
        "outputId": "68fb3da0-aa78-482a-9dcc-7c6bbf179bea"
      },
      "outputs": [
        {
          "name": "stdout",
          "output_type": "stream",
          "text": [
            "<class 'pandas.core.frame.DataFrame'>\n",
            "RangeIndex: 3872 entries, 0 to 3871\n",
            "Data columns (total 8 columns):\n",
            " #   Column        Non-Null Count  Dtype  \n",
            "---  ------        --------------  -----  \n",
            " 0   Date          3872 non-null   object \n",
            " 1   Open          3872 non-null   float64\n",
            " 2   High          3872 non-null   float64\n",
            " 3   Low           3872 non-null   float64\n",
            " 4   Close         3872 non-null   float64\n",
            " 5   Volume        3872 non-null   int64  \n",
            " 6   Dividends     3872 non-null   float64\n",
            " 7   Stock Splits  3872 non-null   float64\n",
            "dtypes: float64(6), int64(1), object(1)\n",
            "memory usage: 242.1+ KB\n"
          ]
        }
      ],
      "source": [
        "data.info()"
      ]
    },
    {
      "cell_type": "code",
      "execution_count": 4,
      "metadata": {
        "colab": {
          "base_uri": "https://localhost:8080/",
          "height": 424
        },
        "id": "N1bSLIKlweu_",
        "outputId": "69573b70-49ec-4312-9f4f-9f0911446fb3"
      },
      "outputs": [
        {
          "data": {
            "text/html": [
              "<div>\n",
              "<style scoped>\n",
              "    .dataframe tbody tr th:only-of-type {\n",
              "        vertical-align: middle;\n",
              "    }\n",
              "\n",
              "    .dataframe tbody tr th {\n",
              "        vertical-align: top;\n",
              "    }\n",
              "\n",
              "    .dataframe thead th {\n",
              "        text-align: right;\n",
              "    }\n",
              "</style>\n",
              "<table border=\"1\" class=\"dataframe\">\n",
              "  <thead>\n",
              "    <tr style=\"text-align: right;\">\n",
              "      <th></th>\n",
              "      <th>Date</th>\n",
              "      <th>Open</th>\n",
              "      <th>High</th>\n",
              "      <th>Low</th>\n",
              "      <th>Close</th>\n",
              "      <th>Volume</th>\n",
              "      <th>Dividends</th>\n",
              "      <th>Stock Splits</th>\n",
              "    </tr>\n",
              "  </thead>\n",
              "  <tbody>\n",
              "    <tr>\n",
              "      <th>0</th>\n",
              "      <td>2006-05-25</td>\n",
              "      <td>3.748967</td>\n",
              "      <td>4.283869</td>\n",
              "      <td>3.739664</td>\n",
              "      <td>4.279217</td>\n",
              "      <td>395343000</td>\n",
              "      <td>0.00</td>\n",
              "      <td>0.0</td>\n",
              "    </tr>\n",
              "    <tr>\n",
              "      <th>1</th>\n",
              "      <td>2006-05-26</td>\n",
              "      <td>4.307126</td>\n",
              "      <td>4.348058</td>\n",
              "      <td>4.103398</td>\n",
              "      <td>4.179680</td>\n",
              "      <td>103044000</td>\n",
              "      <td>0.00</td>\n",
              "      <td>0.0</td>\n",
              "    </tr>\n",
              "    <tr>\n",
              "      <th>2</th>\n",
              "      <td>2006-05-30</td>\n",
              "      <td>4.183400</td>\n",
              "      <td>4.184330</td>\n",
              "      <td>3.986184</td>\n",
              "      <td>4.093164</td>\n",
              "      <td>49898000</td>\n",
              "      <td>0.00</td>\n",
              "      <td>0.0</td>\n",
              "    </tr>\n",
              "    <tr>\n",
              "      <th>3</th>\n",
              "      <td>2006-05-31</td>\n",
              "      <td>4.125723</td>\n",
              "      <td>4.219679</td>\n",
              "      <td>4.125723</td>\n",
              "      <td>4.180608</td>\n",
              "      <td>30002000</td>\n",
              "      <td>0.00</td>\n",
              "      <td>0.0</td>\n",
              "    </tr>\n",
              "    <tr>\n",
              "      <th>4</th>\n",
              "      <td>2006-06-01</td>\n",
              "      <td>4.179678</td>\n",
              "      <td>4.474572</td>\n",
              "      <td>4.176887</td>\n",
              "      <td>4.419686</td>\n",
              "      <td>62344000</td>\n",
              "      <td>0.00</td>\n",
              "      <td>0.0</td>\n",
              "    </tr>\n",
              "    <tr>\n",
              "      <th>...</th>\n",
              "      <td>...</td>\n",
              "      <td>...</td>\n",
              "      <td>...</td>\n",
              "      <td>...</td>\n",
              "      <td>...</td>\n",
              "      <td>...</td>\n",
              "      <td>...</td>\n",
              "      <td>...</td>\n",
              "    </tr>\n",
              "    <tr>\n",
              "      <th>3867</th>\n",
              "      <td>2021-10-05</td>\n",
              "      <td>347.121403</td>\n",
              "      <td>348.130138</td>\n",
              "      <td>342.497241</td>\n",
              "      <td>342.776886</td>\n",
              "      <td>4724100</td>\n",
              "      <td>0.00</td>\n",
              "      <td>0.0</td>\n",
              "    </tr>\n",
              "    <tr>\n",
              "      <th>3868</th>\n",
              "      <td>2021-10-06</td>\n",
              "      <td>339.580960</td>\n",
              "      <td>348.439763</td>\n",
              "      <td>338.682072</td>\n",
              "      <td>348.250000</td>\n",
              "      <td>3712000</td>\n",
              "      <td>0.00</td>\n",
              "      <td>0.0</td>\n",
              "    </tr>\n",
              "    <tr>\n",
              "      <th>3869</th>\n",
              "      <td>2021-10-07</td>\n",
              "      <td>349.000000</td>\n",
              "      <td>357.899994</td>\n",
              "      <td>349.000000</td>\n",
              "      <td>353.910004</td>\n",
              "      <td>3209200</td>\n",
              "      <td>0.44</td>\n",
              "      <td>0.0</td>\n",
              "    </tr>\n",
              "    <tr>\n",
              "      <th>3870</th>\n",
              "      <td>2021-10-08</td>\n",
              "      <td>356.000000</td>\n",
              "      <td>360.369995</td>\n",
              "      <td>354.209991</td>\n",
              "      <td>354.959991</td>\n",
              "      <td>2336700</td>\n",
              "      <td>0.00</td>\n",
              "      <td>0.0</td>\n",
              "    </tr>\n",
              "    <tr>\n",
              "      <th>3871</th>\n",
              "      <td>2021-10-11</td>\n",
              "      <td>353.950012</td>\n",
              "      <td>354.880005</td>\n",
              "      <td>346.899994</td>\n",
              "      <td>347.149994</td>\n",
              "      <td>2766800</td>\n",
              "      <td>0.00</td>\n",
              "      <td>0.0</td>\n",
              "    </tr>\n",
              "  </tbody>\n",
              "</table>\n",
              "<p>3872 rows × 8 columns</p>\n",
              "</div>"
            ],
            "text/plain": [
              "            Date        Open        High         Low       Close     Volume  \\\n",
              "0     2006-05-25    3.748967    4.283869    3.739664    4.279217  395343000   \n",
              "1     2006-05-26    4.307126    4.348058    4.103398    4.179680  103044000   \n",
              "2     2006-05-30    4.183400    4.184330    3.986184    4.093164   49898000   \n",
              "3     2006-05-31    4.125723    4.219679    4.125723    4.180608   30002000   \n",
              "4     2006-06-01    4.179678    4.474572    4.176887    4.419686   62344000   \n",
              "...          ...         ...         ...         ...         ...        ...   \n",
              "3867  2021-10-05  347.121403  348.130138  342.497241  342.776886    4724100   \n",
              "3868  2021-10-06  339.580960  348.439763  338.682072  348.250000    3712000   \n",
              "3869  2021-10-07  349.000000  357.899994  349.000000  353.910004    3209200   \n",
              "3870  2021-10-08  356.000000  360.369995  354.209991  354.959991    2336700   \n",
              "3871  2021-10-11  353.950012  354.880005  346.899994  347.149994    2766800   \n",
              "\n",
              "      Dividends  Stock Splits  \n",
              "0          0.00           0.0  \n",
              "1          0.00           0.0  \n",
              "2          0.00           0.0  \n",
              "3          0.00           0.0  \n",
              "4          0.00           0.0  \n",
              "...         ...           ...  \n",
              "3867       0.00           0.0  \n",
              "3868       0.00           0.0  \n",
              "3869       0.44           0.0  \n",
              "3870       0.00           0.0  \n",
              "3871       0.00           0.0  \n",
              "\n",
              "[3872 rows x 8 columns]"
            ]
          },
          "execution_count": 4,
          "metadata": {},
          "output_type": "execute_result"
        }
      ],
      "source": [
        "data.dropna()"
      ]
    },
    {
      "cell_type": "code",
      "execution_count": 5,
      "metadata": {
        "id": "Jp9YhuyTw5Ns"
      },
      "outputs": [],
      "source": [
        "data['Date'] = pd.to_datetime(data['Date'])"
      ]
    },
    {
      "cell_type": "code",
      "execution_count": 6,
      "metadata": {
        "id": "5ZIk9DF_w6r8"
      },
      "outputs": [],
      "source": [
        "data = data.sort_values(by='Date', ascending=True)"
      ]
    },
    {
      "cell_type": "code",
      "execution_count": 7,
      "metadata": {
        "id": "-m9LCpjixGoV"
      },
      "outputs": [],
      "source": [
        "data = data.drop(['Dividends', 'Stock Splits'],axis=1)"
      ]
    },
    {
      "cell_type": "code",
      "execution_count": 8,
      "metadata": {
        "colab": {
          "base_uri": "https://localhost:8080/",
          "height": 424
        },
        "id": "lnbOFzfExSAQ",
        "outputId": "0b79eaba-f2bc-40b7-94ef-42bbc6cf643d"
      },
      "outputs": [
        {
          "data": {
            "text/html": [
              "<div>\n",
              "<style scoped>\n",
              "    .dataframe tbody tr th:only-of-type {\n",
              "        vertical-align: middle;\n",
              "    }\n",
              "\n",
              "    .dataframe tbody tr th {\n",
              "        vertical-align: top;\n",
              "    }\n",
              "\n",
              "    .dataframe thead th {\n",
              "        text-align: right;\n",
              "    }\n",
              "</style>\n",
              "<table border=\"1\" class=\"dataframe\">\n",
              "  <thead>\n",
              "    <tr style=\"text-align: right;\">\n",
              "      <th></th>\n",
              "      <th>Date</th>\n",
              "      <th>Open</th>\n",
              "      <th>High</th>\n",
              "      <th>Low</th>\n",
              "      <th>Close</th>\n",
              "      <th>Volume</th>\n",
              "    </tr>\n",
              "  </thead>\n",
              "  <tbody>\n",
              "    <tr>\n",
              "      <th>0</th>\n",
              "      <td>2006-05-25</td>\n",
              "      <td>3.748967</td>\n",
              "      <td>4.283869</td>\n",
              "      <td>3.739664</td>\n",
              "      <td>4.279217</td>\n",
              "      <td>395343000</td>\n",
              "    </tr>\n",
              "    <tr>\n",
              "      <th>1</th>\n",
              "      <td>2006-05-26</td>\n",
              "      <td>4.307126</td>\n",
              "      <td>4.348058</td>\n",
              "      <td>4.103398</td>\n",
              "      <td>4.179680</td>\n",
              "      <td>103044000</td>\n",
              "    </tr>\n",
              "    <tr>\n",
              "      <th>2</th>\n",
              "      <td>2006-05-30</td>\n",
              "      <td>4.183400</td>\n",
              "      <td>4.184330</td>\n",
              "      <td>3.986184</td>\n",
              "      <td>4.093164</td>\n",
              "      <td>49898000</td>\n",
              "    </tr>\n",
              "    <tr>\n",
              "      <th>3</th>\n",
              "      <td>2006-05-31</td>\n",
              "      <td>4.125723</td>\n",
              "      <td>4.219679</td>\n",
              "      <td>4.125723</td>\n",
              "      <td>4.180608</td>\n",
              "      <td>30002000</td>\n",
              "    </tr>\n",
              "    <tr>\n",
              "      <th>4</th>\n",
              "      <td>2006-06-01</td>\n",
              "      <td>4.179678</td>\n",
              "      <td>4.474572</td>\n",
              "      <td>4.176887</td>\n",
              "      <td>4.419686</td>\n",
              "      <td>62344000</td>\n",
              "    </tr>\n",
              "    <tr>\n",
              "      <th>...</th>\n",
              "      <td>...</td>\n",
              "      <td>...</td>\n",
              "      <td>...</td>\n",
              "      <td>...</td>\n",
              "      <td>...</td>\n",
              "      <td>...</td>\n",
              "    </tr>\n",
              "    <tr>\n",
              "      <th>3867</th>\n",
              "      <td>2021-10-05</td>\n",
              "      <td>347.121403</td>\n",
              "      <td>348.130138</td>\n",
              "      <td>342.497241</td>\n",
              "      <td>342.776886</td>\n",
              "      <td>4724100</td>\n",
              "    </tr>\n",
              "    <tr>\n",
              "      <th>3868</th>\n",
              "      <td>2021-10-06</td>\n",
              "      <td>339.580960</td>\n",
              "      <td>348.439763</td>\n",
              "      <td>338.682072</td>\n",
              "      <td>348.250000</td>\n",
              "      <td>3712000</td>\n",
              "    </tr>\n",
              "    <tr>\n",
              "      <th>3869</th>\n",
              "      <td>2021-10-07</td>\n",
              "      <td>349.000000</td>\n",
              "      <td>357.899994</td>\n",
              "      <td>349.000000</td>\n",
              "      <td>353.910004</td>\n",
              "      <td>3209200</td>\n",
              "    </tr>\n",
              "    <tr>\n",
              "      <th>3870</th>\n",
              "      <td>2021-10-08</td>\n",
              "      <td>356.000000</td>\n",
              "      <td>360.369995</td>\n",
              "      <td>354.209991</td>\n",
              "      <td>354.959991</td>\n",
              "      <td>2336700</td>\n",
              "    </tr>\n",
              "    <tr>\n",
              "      <th>3871</th>\n",
              "      <td>2021-10-11</td>\n",
              "      <td>353.950012</td>\n",
              "      <td>354.880005</td>\n",
              "      <td>346.899994</td>\n",
              "      <td>347.149994</td>\n",
              "      <td>2766800</td>\n",
              "    </tr>\n",
              "  </tbody>\n",
              "</table>\n",
              "<p>3872 rows × 6 columns</p>\n",
              "</div>"
            ],
            "text/plain": [
              "           Date        Open        High         Low       Close     Volume\n",
              "0    2006-05-25    3.748967    4.283869    3.739664    4.279217  395343000\n",
              "1    2006-05-26    4.307126    4.348058    4.103398    4.179680  103044000\n",
              "2    2006-05-30    4.183400    4.184330    3.986184    4.093164   49898000\n",
              "3    2006-05-31    4.125723    4.219679    4.125723    4.180608   30002000\n",
              "4    2006-06-01    4.179678    4.474572    4.176887    4.419686   62344000\n",
              "...         ...         ...         ...         ...         ...        ...\n",
              "3867 2021-10-05  347.121403  348.130138  342.497241  342.776886    4724100\n",
              "3868 2021-10-06  339.580960  348.439763  338.682072  348.250000    3712000\n",
              "3869 2021-10-07  349.000000  357.899994  349.000000  353.910004    3209200\n",
              "3870 2021-10-08  356.000000  360.369995  354.209991  354.959991    2336700\n",
              "3871 2021-10-11  353.950012  354.880005  346.899994  347.149994    2766800\n",
              "\n",
              "[3872 rows x 6 columns]"
            ]
          },
          "execution_count": 8,
          "metadata": {},
          "output_type": "execute_result"
        }
      ],
      "source": [
        "data"
      ]
    },
    {
      "cell_type": "code",
      "execution_count": 9,
      "metadata": {
        "colab": {
          "base_uri": "https://localhost:8080/"
        },
        "id": "P1PdG-drxVVo",
        "outputId": "53170ac8-dc19-4dfd-9168-b92443062d24"
      },
      "outputs": [
        {
          "name": "stdout",
          "output_type": "stream",
          "text": [
            "<class 'pandas.core.frame.DataFrame'>\n",
            "RangeIndex: 3872 entries, 0 to 3871\n",
            "Data columns (total 6 columns):\n",
            " #   Column  Non-Null Count  Dtype         \n",
            "---  ------  --------------  -----         \n",
            " 0   Date    3872 non-null   datetime64[ns]\n",
            " 1   Open    3872 non-null   float64       \n",
            " 2   High    3872 non-null   float64       \n",
            " 3   Low     3872 non-null   float64       \n",
            " 4   Close   3872 non-null   float64       \n",
            " 5   Volume  3872 non-null   int64         \n",
            "dtypes: datetime64[ns](1), float64(4), int64(1)\n",
            "memory usage: 181.6 KB\n"
          ]
        }
      ],
      "source": [
        "data.info()"
      ]
    },
    {
      "cell_type": "code",
      "execution_count": 10,
      "metadata": {
        "id": "UgLNyVcexbj6"
      },
      "outputs": [],
      "source": [
        "scaler = MinMaxScaler(feature_range=(0, 1))\n",
        "data[['Open', 'High', 'Low', 'Close', 'Volume']] = scaler.fit_transform(data[['Open', 'High', 'Low', 'Close', 'Volume']])"
      ]
    },
    {
      "cell_type": "code",
      "execution_count": 11,
      "metadata": {
        "id": "jnicpvYfyc87"
      },
      "outputs": [],
      "source": [
        "n_steps = 60  # Adjust as needed\n",
        "\n",
        "# Create sequences of input-output pairs\n",
        "def create_sequences(data, n_steps):\n",
        "    X, y = [], []\n",
        "    for i in range(len(data) - n_steps):\n",
        "        X.append(data.iloc[i:i+n_steps, 1:].values)  # Input features (excluding 'Date' column)\n",
        "        y.append(data.iloc[i+n_steps, 4])            # Target variable ('Close' price)\n",
        "    return np.array(X), np.array(y)\n",
        "\n",
        "X, y = create_sequences(data, n_steps)\n",
        "\n",
        "# Split the dataset into training and testing sets\n",
        "split_ratio = 0.8  # Adjust as needed\n",
        "split_index = int(split_ratio * len(X))\n",
        "X_train, X_test = X[:split_index], X[split_index:]\n",
        "y_train, y_test = y[:split_index], y[split_index:]"
      ]
    },
    {
      "cell_type": "code",
      "execution_count": 12,
      "metadata": {
        "colab": {
          "base_uri": "https://localhost:8080/"
        },
        "id": "nZKXYXq2yfCv",
        "outputId": "a152b795-756f-42e1-bda2-99a95bdc6d8b"
      },
      "outputs": [
        {
          "data": {
            "text/plain": [
              "(3049, 60, 5)"
            ]
          },
          "execution_count": 12,
          "metadata": {},
          "output_type": "execute_result"
        }
      ],
      "source": [
        "X_train.shape"
      ]
    },
    {
      "cell_type": "code",
      "execution_count": 13,
      "metadata": {
        "id": "hK24ivM6089x"
      },
      "outputs": [],
      "source": [
        "from tensorflow.keras.models import Sequential\n",
        "from tensorflow.keras.layers import LSTM, Dense"
      ]
    },
    {
      "cell_type": "code",
      "execution_count": 14,
      "metadata": {
        "colab": {
          "base_uri": "https://localhost:8080/",
          "height": 193
        },
        "id": "15PLPXPE1iyp",
        "outputId": "8ffe557c-7202-4824-e672-83a7fa86322a"
      },
      "outputs": [
        {
          "name": "stderr",
          "output_type": "stream",
          "text": [
            "C:\\Users\\Sumanth\\AppData\\Local\\Packages\\PythonSoftwareFoundation.Python.3.11_qbz5n2kfra8p0\\LocalCache\\local-packages\\Python311\\site-packages\\keras\\src\\layers\\rnn\\rnn.py:204: UserWarning: Do not pass an `input_shape`/`input_dim` argument to a layer. When using Sequential models, prefer using an `Input(shape)` object as the first layer in the model instead.\n",
            "  super().__init__(**kwargs)\n"
          ]
        }
      ],
      "source": [
        "model = Sequential([\n",
        "    LSTM(units=50, activation='relu', input_shape=(n_steps, 5)),\n",
        "    Dense(units=1)  # Output layer with 1 neuron for regression task\n",
        "])"
      ]
    },
    {
      "cell_type": "code",
      "execution_count": 15,
      "metadata": {
        "id": "TaKajr2r1oiJ"
      },
      "outputs": [],
      "source": [
        "model.compile(optimizer='adam', loss='mse')"
      ]
    },
    {
      "cell_type": "code",
      "execution_count": 16,
      "metadata": {
        "colab": {
          "base_uri": "https://localhost:8080/"
        },
        "id": "-bqGnRBZ1pwM",
        "outputId": "586ee964-0b05-4e1a-925c-a926c48c3913"
      },
      "outputs": [
        {
          "name": "stdout",
          "output_type": "stream",
          "text": [
            "Epoch 1/10\n",
            "\u001b[1m96/96\u001b[0m \u001b[32m━━━━━━━━━━━━━━━━━━━━\u001b[0m\u001b[37m\u001b[0m \u001b[1m4s\u001b[0m 17ms/step - loss: 0.0102\n",
            "Epoch 2/10\n",
            "\u001b[1m96/96\u001b[0m \u001b[32m━━━━━━━━━━━━━━━━━━━━\u001b[0m\u001b[37m\u001b[0m \u001b[1m2s\u001b[0m 16ms/step - loss: 2.8992e-05\n",
            "Epoch 3/10\n",
            "\u001b[1m96/96\u001b[0m \u001b[32m━━━━━━━━━━━━━━━━━━━━\u001b[0m\u001b[37m\u001b[0m \u001b[1m2s\u001b[0m 17ms/step - loss: 2.1069e-05\n",
            "Epoch 4/10\n",
            "\u001b[1m96/96\u001b[0m \u001b[32m━━━━━━━━━━━━━━━━━━━━\u001b[0m\u001b[37m\u001b[0m \u001b[1m2s\u001b[0m 18ms/step - loss: 2.1053e-05\n",
            "Epoch 5/10\n",
            "\u001b[1m96/96\u001b[0m \u001b[32m━━━━━━━━━━━━━━━━━━━━\u001b[0m\u001b[37m\u001b[0m \u001b[1m2s\u001b[0m 18ms/step - loss: 2.0413e-05\n",
            "Epoch 6/10\n",
            "\u001b[1m96/96\u001b[0m \u001b[32m━━━━━━━━━━━━━━━━━━━━\u001b[0m\u001b[37m\u001b[0m \u001b[1m2s\u001b[0m 16ms/step - loss: 1.9703e-05\n",
            "Epoch 7/10\n",
            "\u001b[1m96/96\u001b[0m \u001b[32m━━━━━━━━━━━━━━━━━━━━\u001b[0m\u001b[37m\u001b[0m \u001b[1m2s\u001b[0m 16ms/step - loss: 2.1590e-05\n",
            "Epoch 8/10\n",
            "\u001b[1m96/96\u001b[0m \u001b[32m━━━━━━━━━━━━━━━━━━━━\u001b[0m\u001b[37m\u001b[0m \u001b[1m2s\u001b[0m 16ms/step - loss: 1.8122e-05\n",
            "Epoch 9/10\n",
            "\u001b[1m96/96\u001b[0m \u001b[32m━━━━━━━━━━━━━━━━━━━━\u001b[0m\u001b[37m\u001b[0m \u001b[1m2s\u001b[0m 16ms/step - loss: 1.8252e-05\n",
            "Epoch 10/10\n",
            "\u001b[1m96/96\u001b[0m \u001b[32m━━━━━━━━━━━━━━━━━━━━\u001b[0m\u001b[37m\u001b[0m \u001b[1m2s\u001b[0m 16ms/step - loss: 1.8862e-05\n"
          ]
        },
        {
          "data": {
            "text/plain": [
              "<keras.src.callbacks.history.History at 0x14a779ef790>"
            ]
          },
          "execution_count": 16,
          "metadata": {},
          "output_type": "execute_result"
        }
      ],
      "source": [
        "model.fit(X_train, y_train, epochs=10, batch_size=32)"
      ]
    },
    {
      "cell_type": "code",
      "execution_count": 17,
      "metadata": {
        "colab": {
          "base_uri": "https://localhost:8080/",
          "height": 211
        },
        "id": "-vBGkcNp4WCv",
        "outputId": "7bf3a898-f91f-4f55-f8a4-37f5d0abbc6e"
      },
      "outputs": [
        {
          "name": "stdout",
          "output_type": "stream",
          "text": [
            "\u001b[1m24/24\u001b[0m \u001b[32m━━━━━━━━━━━━━━━━━━━━\u001b[0m\u001b[37m\u001b[0m \u001b[1m1s\u001b[0m 17ms/step\n",
            "R^2 Score: 0.8917858425767553\n"
          ]
        }
      ],
      "source": [
        "from sklearn.metrics import r2_score\n",
        "\n",
        "# Make predictions using the trained LSTM model\n",
        "predictions = model.predict(X_test)\n",
        "\n",
        "# Calculate R^2 score\n",
        "r2 = r2_score(y_test, predictions)\n",
        "print(\"R^2 Score:\", r2)\n"
      ]
    },
    {
      "cell_type": "code",
      "execution_count": 41,
      "metadata": {
        "colab": {
          "base_uri": "https://localhost:8080/"
        },
        "id": "cNXZkZ9110VN",
        "outputId": "2d552cdd-09f9-4f99-e3c5-3158c73ec586"
      },
      "outputs": [
        {
          "name": "stdout",
          "output_type": "stream",
          "text": [
            "24/24 [==============================] - 1s 10ms/step - loss: 0.0018\n",
            "Test Loss: 0.0018292419845238328\n"
          ]
        }
      ],
      "source": [
        "loss = model.evaluate(X_test, y_test)\n",
        "print(\"Test Loss:\", loss)"
      ]
    },
    {
      "cell_type": "code",
      "execution_count": 42,
      "metadata": {
        "colab": {
          "base_uri": "https://localhost:8080/"
        },
        "id": "SAT8vJj115J-",
        "outputId": "3a48b17d-824b-4faa-a25a-e72997fe81c5"
      },
      "outputs": [
        {
          "name": "stdout",
          "output_type": "stream",
          "text": [
            "24/24 [==============================] - 0s 9ms/step - loss: 0.0018\n",
            "Test MSE: 0.0018292419845238328\n"
          ]
        }
      ],
      "source": [
        "# Evaluate the model on the testing data\n",
        "mse = model.evaluate(X_test, y_test)\n",
        "print(\"Test MSE:\", mse)\n"
      ]
    },
    {
      "cell_type": "code",
      "execution_count": 18,
      "metadata": {
        "id": "fpf-POYi3WII"
      },
      "outputs": [
        {
          "name": "stdout",
          "output_type": "stream",
          "text": [
            "\u001b[1m24/24\u001b[0m \u001b[32m━━━━━━━━━━━━━━━━━━━━\u001b[0m\u001b[37m\u001b[0m \u001b[1m0s\u001b[0m 6ms/step\n",
            "[0.5499138] 0.5527861738980661\n",
            "[0.55171627] 0.5492623324166814\n",
            "[0.55240583] 0.5511753363227111\n",
            "[0.5533095] 0.533606288136032\n",
            "[0.5520072] 0.5269535504354633\n",
            "[0.54896307] 0.514353702756495\n",
            "[0.5436627] 0.5181336531537041\n",
            "[0.5389644] 0.4851975621749768\n",
            "[0.53241134] 0.4797041509379418\n",
            "[0.52308613] 0.5041729827043346\n"
          ]
        }
      ],
      "source": [
        "y_pred = model.predict(X_test)\n",
        "#y_pred=np.where(y_pred > 0.43, 1,0)\n",
        "for i in range(10):\n",
        "    print(predictions[i], y_test[i])"
      ]
    },
    {
      "cell_type": "code",
      "execution_count": 20,
      "metadata": {},
      "outputs": [
        {
          "data": {
            "image/png": "[encoded data removed]",
            "text/plain": [
              "<Figure size 1600x800 with 1 Axes>"
            ]
          },
          "metadata": {},
          "output_type": "display_data"
        }
      ],
      "source": [
        "import matplotlib.pyplot as plt\n",
        "\n",
        "plt.figure(figsize=(16, 8))\n",
        "plt.plot(y_test, color='black', label='Test')\n",
        "plt.plot(y_pred, color='green', label='Predicted')\n",
        "plt.legend()\n",
        "plt.show()\n"
      ]
    }
  ],
  "metadata": {
    "colab": {
      "provenance": []
    },
    "kernelspec": {
      "display_name": "Python 3",
      "name": "python3"
    },
    "language_info": {
      "codemirror_mode": {
        "name": "ipython",
        "version": 3
      },
      "file_extension": ".py",
      "mimetype": "text/x-python",
      "name": "python",
      "nbconvert_exporter": "python",
      "pygments_lexer": "ipython3",
      "version": "3.11.9"
    }
  },
  "nbformat": 4,
  "nbformat_minor": 0
}
